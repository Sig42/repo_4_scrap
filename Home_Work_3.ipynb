{
 "cells": [
  {
   "cell_type": "code",
   "execution_count": 1,
   "metadata": {},
   "outputs": [],
   "source": [
    "from bs4 import BeautifulSoup as bs\n",
    "import requests\n",
    "from pprint import pprint"
   ]
  },
  {
   "cell_type": "code",
   "execution_count": 2,
   "metadata": {},
   "outputs": [],
   "source": [
    "import pandas as pd"
   ]
  },
  {
   "cell_type": "code",
   "execution_count": 3,
   "metadata": {},
   "outputs": [],
   "source": [
    "import numpy as np"
   ]
  },
  {
   "cell_type": "code",
   "execution_count": 4,
   "metadata": {},
   "outputs": [],
   "source": [
    "from pymongo import MongoClient"
   ]
  },
  {
   "cell_type": "code",
   "execution_count": 5,
   "metadata": {},
   "outputs": [],
   "source": [
    "client = MongoClient('127.0.0.1', 27017)"
   ]
  },
  {
   "cell_type": "code",
   "execution_count": 6,
   "metadata": {},
   "outputs": [],
   "source": [
    "db = client['hw_3']"
   ]
  },
  {
   "cell_type": "code",
   "execution_count": 7,
   "metadata": {},
   "outputs": [],
   "source": [
    "vacans = db.vacans"
   ]
  },
  {
   "cell_type": "code",
   "execution_count": 8,
   "metadata": {},
   "outputs": [],
   "source": [
    "url = 'https://spb.hh.ru'\n",
    "url_add = '/vacancies/data-scientist'\n",
    "headers = {'User-Agent':'Mozilla/5.0 (Windows NT 10.0; Win64; x64) AppleWebKit/537.36 (KHTML, like Gecko) Chrome/90.0.4430.93 Safari/537.36'}\n",
    "response = requests.get(url+url_add, headers=headers)\n",
    "soup = bs(response.text, 'html.parser')\n",
    "pager_next = soup.find('a',attrs={'class':'bloko-button', 'data-qa':'pager-next'}).get('href')\n",
    "job_list = soup.find_all('div',attrs={'class':'vacancy-serp-item'})"
   ]
  },
  {
   "cell_type": "code",
   "execution_count": 9,
   "metadata": {},
   "outputs": [],
   "source": [
    "try:\n",
    "    while pager_next:\n",
    "        for job in job_list:\n",
    "            job_data = {}\n",
    "            job_link = job.find('a',attrs={'class':'bloko-link', 'data-qa':'vacancy-serp__vacancy-title'}).get('href')\n",
    "            job_name = job.find('a',attrs={'class':'bloko-link'}).getText()\n",
    "            job_salary = job.find('span',attrs={'data-qa': 'vacancy-serp__vacancy-compensation', 'class':'bloko-header-section-3 bloko-header-section-3_lite'})\n",
    "\n",
    "            if job_salary:\n",
    "                if job_salary.getText().startswith('от'):\n",
    "                    job_salary_min = int(job_salary.getText().split(' ')[1].replace('\\u202f', ''))\n",
    "                    job_salary_max = None\n",
    "                    job_currency = job_salary.getText().split(' ')[2]\n",
    "                    \n",
    "                elif job_salary.getText().startswith('до'):\n",
    "                    job_salary_min = None\n",
    "                    job_salary_max = int(job_salary.getText().split(' ')[1].replace('\\u202f', ''))\n",
    "                    job_currency = job_salary.getText().split(' ')[2]\n",
    "                    \n",
    "                else:\n",
    "                    job_salary_min = int(job_salary.getText().split(' ')[0].replace('\\u202f', ''))\n",
    "                    job_salary_max = int(job_salary.getText().split(' ')[2].replace('\\u202f', ''))\n",
    "                    job_currency = job_salary.getText().split(' ')[3]\n",
    "            \n",
    "            else:\n",
    "                job_salary_min = None\n",
    "                job_salary_max = None\n",
    "                job_currency = None\n",
    "                \n",
    "            job_data['link'] = job_link\n",
    "            job_data['name'] = job_name\n",
    "            job_data['salary_min'] = job_salary_min\n",
    "            job_data['salary_max'] = job_salary_max\n",
    "            job_data['currency'] = job_currency\n",
    "\n",
    "            vacans.update_one({'link': job_data['link']}, {'$set': job_data}, upsert=True)\n",
    "            \n",
    "                \n",
    "        response = requests.get(url+pager_next, headers=headers)\n",
    "        soup = bs(response.text, 'html.parser')\n",
    "        job_list = soup.find_all('div',attrs={'class':'vacancy-serp-item'})\n",
    "        pager_next = soup.find('a',attrs={'class':'bloko-button', 'data-qa':'pager-next'}).get('href')\n",
    "        \n",
    "except AttributeError:\n",
    "    for job in job_list:\n",
    "        job_data = {}\n",
    "        job_link = job.find('a',attrs={'class':'bloko-link', 'data-qa':'vacancy-serp__vacancy-title'}).get('href')\n",
    "        job_name = job.find('a',attrs={'class':'bloko-link'}).getText()\n",
    "        job_salary = job.find('span',attrs={'data-qa': 'vacancy-serp__vacancy-compensation', 'class':'bloko-header-section-3 bloko-header-section-3_lite'})\n",
    "\n",
    "        if job_salary:\n",
    "            if job_salary.getText().startswith('от'):\n",
    "                job_salary_min = int(job_salary.getText().split(' ')[1].replace('\\u202f', ''))\n",
    "                job_salary_max = None\n",
    "                job_currency = job_salary.getText().split(' ')[2]\n",
    "                \n",
    "            elif job_salary.getText().startswith('до'):\n",
    "                job_salary_min = None\n",
    "                job_salary_max = int(job_salary.getText().split(' ')[1].replace('\\u202f', ''))\n",
    "                job_currency = job_salary.getText().split(' ')[2]\n",
    "                \n",
    "            else:\n",
    "                job_salary_min = int(job_salary.getText().split(' ')[0].replace('\\u202f', ''))\n",
    "                job_salary_max = int(job_salary.getText().split(' ')[2].replace('\\u202f', ''))\n",
    "                job_currency = job_salary.getText().split(' ')[3]\n",
    "                \n",
    "                \n",
    "        else:\n",
    "            job_salary_min = None\n",
    "            job_salary_max = None\n",
    "            job_currency = None\n",
    "            \n",
    "        job_data['link'] = job_link\n",
    "        job_data['name'] = job_name\n",
    "        job_data['salary_min'] = job_salary_min\n",
    "        job_data['salary_max'] = job_salary_max\n",
    "        job_data['currency'] = job_currency\n",
    "\n",
    "        vacans.update_one({'link': job_data['link']}, {'$set': job_data}, upsert=True)"
   ]
  },
  {
   "cell_type": "code",
   "execution_count": 10,
   "metadata": {},
   "outputs": [
    {
     "name": "stdout",
     "output_type": "stream",
     "text": [
      "{'_id': ObjectId('610e7749d06e58ce44ed1224'),\n",
      " 'currency': 'руб.',\n",
      " 'link': 'https://spb.hh.ru/vacancy/46590676?from=vacancy_search_catalog&query=data%20scientist',\n",
      " 'name': 'Специалист Computer Vision (Senior Data Scientist)',\n",
      " 'salary_max': 300000,\n",
      " 'salary_min': 180000}\n",
      "{'_id': ObjectId('610e7749d06e58ce44ed1225'),\n",
      " 'currency': 'руб.',\n",
      " 'link': 'https://spb.hh.ru/vacancy/46732109?from=vacancy_search_catalog&query=data%20scientist',\n",
      " 'name': 'Senior Data Scientist',\n",
      " 'salary_max': 320000,\n",
      " 'salary_min': 220000}\n",
      "{'_id': ObjectId('610e7749d06e58ce44ed1229'),\n",
      " 'currency': 'руб.',\n",
      " 'link': 'https://spb.hh.ru/vacancy/46497618?from=vacancy_search_catalog&query=data%20scientist',\n",
      " 'name': 'Senior Data Scientist (в Анапу)',\n",
      " 'salary_max': 250000,\n",
      " 'salary_min': 150000}\n",
      "{'_id': ObjectId('610e7749d06e58ce44ed122c'),\n",
      " 'currency': 'руб.',\n",
      " 'link': 'https://spb.hh.ru/vacancy/46743518?from=vacancy_search_catalog&query=data%20scientist',\n",
      " 'name': 'Data Scientist\\\\ Аналитик Data Science',\n",
      " 'salary_max': 160000,\n",
      " 'salary_min': None}\n",
      "{'_id': ObjectId('610e7749d06e58ce44ed1239'),\n",
      " 'currency': 'руб.',\n",
      " 'link': 'https://spb.hh.ru/vacancy/46681550?from=vacancy_search_catalog&query=data%20scientist',\n",
      " 'name': 'Data Scientist (Data Lab Team)',\n",
      " 'salary_max': None,\n",
      " 'salary_min': 180000}\n",
      "{'_id': ObjectId('610e7749d06e58ce44ed1245'),\n",
      " 'currency': 'руб.',\n",
      " 'link': 'https://spb.hh.ru/vacancy/46622553?from=vacancy_search_catalog&query=data%20scientist',\n",
      " 'name': 'Data Scientist в генеративный CV (middle, remote)',\n",
      " 'salary_max': 120000,\n",
      " 'salary_min': None}\n",
      "{'_id': ObjectId('610e7749d06e58ce44ed124b'),\n",
      " 'currency': 'руб.',\n",
      " 'link': 'https://spb.hh.ru/vacancy/42072378?from=vacancy_search_catalog&query=data%20scientist',\n",
      " 'name': 'Senior product analyst Cardholder',\n",
      " 'salary_max': None,\n",
      " 'salary_min': 150000}\n",
      "{'_id': ObjectId('610e7749d06e58ce44ed124e'),\n",
      " 'currency': 'руб.',\n",
      " 'link': 'https://spb.hh.ru/vacancy/46494663?from=vacancy_search_catalog&query=data%20scientist',\n",
      " 'name': 'Middle/Senior Data Scientist (DS Team) / remote',\n",
      " 'salary_max': None,\n",
      " 'salary_min': 180000}\n",
      "{'_id': ObjectId('610e774bd06e58ce44ed1259'),\n",
      " 'currency': 'руб.',\n",
      " 'link': 'https://spb.hh.ru/vacancy/46358397?from=vacancy_search_catalog&query=data%20scientist',\n",
      " 'name': 'Cloud Data Scientist (AWS, remote)',\n",
      " 'salary_max': None,\n",
      " 'salary_min': 350000}\n",
      "{'_id': ObjectId('610e774bd06e58ce44ed125f'),\n",
      " 'currency': 'руб.',\n",
      " 'link': 'https://spb.hh.ru/vacancy/46305287?from=vacancy_search_catalog&query=data%20scientist',\n",
      " 'name': 'Data Engineer',\n",
      " 'salary_max': None,\n",
      " 'salary_min': 170000}\n",
      "{'_id': ObjectId('610e774bd06e58ce44ed1276'),\n",
      " 'currency': 'руб.',\n",
      " 'link': 'https://spb.hh.ru/vacancy/46563597?from=vacancy_search_catalog&query=data%20scientist',\n",
      " 'name': 'Senior Java Developer (Life Science project)',\n",
      " 'salary_max': None,\n",
      " 'salary_min': 290000}\n",
      "{'_id': ObjectId('610e774bd06e58ce44ed127a'),\n",
      " 'currency': 'руб.',\n",
      " 'link': 'https://spb.hh.ru/vacancy/46268275?from=vacancy_search_catalog&query=data%20scientist',\n",
      " 'name': 'Middle DevOps инженер',\n",
      " 'salary_max': 200000,\n",
      " 'salary_min': 150000}\n",
      "{'_id': ObjectId('610e774bd06e58ce44ed127e'),\n",
      " 'currency': 'руб.',\n",
      " 'link': 'https://spb.hh.ru/vacancy/43699221?from=vacancy_search_catalog&query=data%20scientist',\n",
      " 'name': 'UX/ UI Designer (удаленно)',\n",
      " 'salary_max': None,\n",
      " 'salary_min': 180000}\n",
      "{'_id': ObjectId('610e774bd06e58ce44ed1280'),\n",
      " 'currency': 'руб.',\n",
      " 'link': 'https://spb.hh.ru/vacancy/46749497?from=vacancy_search_catalog&query=data%20scientist',\n",
      " 'name': 'Middle / Senior PHP Symfony Developer',\n",
      " 'salary_max': None,\n",
      " 'salary_min': 150000}\n",
      "{'_id': ObjectId('610e774bd06e58ce44ed1286'),\n",
      " 'currency': 'руб.',\n",
      " 'link': 'https://spb.hh.ru/vacancy/45151935?from=vacancy_search_catalog&query=data%20scientist',\n",
      " 'name': 'Golang разработчик',\n",
      " 'salary_max': 250000,\n",
      " 'salary_min': 150000}\n",
      "{'_id': ObjectId('610e774bd06e58ce44ed128d'),\n",
      " 'currency': 'руб.',\n",
      " 'link': 'https://spb.hh.ru/vacancy/45557217?from=vacancy_search_catalog&query=data%20scientist',\n",
      " 'name': 'Middle/Senior Python разработчик (FastAPI, уудаленно)',\n",
      " 'salary_max': 250000,\n",
      " 'salary_min': None}\n",
      "{'_id': ObjectId('610e774bd06e58ce44ed128f'),\n",
      " 'currency': 'руб.',\n",
      " 'link': 'https://spb.hh.ru/vacancy/46333100?from=vacancy_search_catalog&query=data%20scientist',\n",
      " 'name': 'Front-end разработчик (React, TypeScript)',\n",
      " 'salary_max': None,\n",
      " 'salary_min': 150000}\n",
      "{'_id': ObjectId('610e774cd06e58ce44ed1293'),\n",
      " 'currency': 'руб.',\n",
      " 'link': 'https://spb.hh.ru/vacancy/46248016?from=vacancy_search_catalog&query=data%20scientist',\n",
      " 'name': 'Senior Developer (Java, Bioinformatics)',\n",
      " 'salary_max': None,\n",
      " 'salary_min': 290000}\n"
     ]
    }
   ],
   "source": [
    "for i in vacans.find({'$or': [{'salary_min': {'$gt': 100000}},\n",
    "                              {'salary_max': {'$gt': 100000}}]}):\n",
    "    pprint(i)"
   ]
  },
  {
   "cell_type": "code",
   "execution_count": 11,
   "metadata": {},
   "outputs": [
    {
     "data": {
      "text/plain": [
       "114"
      ]
     },
     "execution_count": 11,
     "metadata": {},
     "output_type": "execute_result"
    }
   ],
   "source": [
    "len(list(vacans.find({})))"
   ]
  }
 ],
 "metadata": {
  "kernelspec": {
   "display_name": "Python 3",
   "language": "python",
   "name": "python3"
  },
  "language_info": {
   "codemirror_mode": {
    "name": "ipython",
    "version": 3
   },
   "file_extension": ".py",
   "mimetype": "text/x-python",
   "name": "python",
   "nbconvert_exporter": "python",
   "pygments_lexer": "ipython3",
   "version": "3.8.5"
  }
 },
 "nbformat": 4,
 "nbformat_minor": 4
}
