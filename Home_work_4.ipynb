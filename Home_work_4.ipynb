{
 "cells": [
  {
   "cell_type": "code",
   "execution_count": 1,
   "metadata": {},
   "outputs": [],
   "source": [
    "from lxml import html"
   ]
  },
  {
   "cell_type": "code",
   "execution_count": 2,
   "metadata": {},
   "outputs": [],
   "source": [
    "import requests"
   ]
  },
  {
   "cell_type": "code",
   "execution_count": 3,
   "metadata": {},
   "outputs": [],
   "source": [
    "from pprint import pprint"
   ]
  },
  {
   "cell_type": "code",
   "execution_count": 4,
   "metadata": {},
   "outputs": [],
   "source": [
    "from pymongo import MongoClient\n",
    "client = MongoClient('127.0.0.1', 27017)\n",
    "db = client['hw_4']"
   ]
  },
  {
   "cell_type": "code",
   "execution_count": 5,
   "metadata": {},
   "outputs": [],
   "source": [
    "news = db.news"
   ]
  },
  {
   "cell_type": "code",
   "execution_count": 6,
   "metadata": {},
   "outputs": [],
   "source": [
    "header = {'User-Agent': 'Mozilla/5.0 (Windows NT 10.0; Win64; x64) AppleWebKit/537.36 (KHTML, like Gecko) Chrome/92.0.4515.131 Safari/537.36'}"
   ]
  },
  {
   "cell_type": "code",
   "execution_count": 7,
   "metadata": {},
   "outputs": [],
   "source": [
    "url = 'https://lenta.ru/'"
   ]
  },
  {
   "cell_type": "code",
   "execution_count": 8,
   "metadata": {},
   "outputs": [],
   "source": [
    "response = requests.get(url, headers=header)"
   ]
  },
  {
   "cell_type": "code",
   "execution_count": 9,
   "metadata": {},
   "outputs": [],
   "source": [
    "dom = html.fromstring(response.text)"
   ]
  },
  {
   "cell_type": "code",
   "execution_count": 10,
   "metadata": {},
   "outputs": [],
   "source": [
    "blocks = dom.xpath(\"//div[@class='first-item']/h2 | //div[@class='span4']//div[@class='item']/a\")"
   ]
  },
  {
   "cell_type": "code",
   "execution_count": 11,
   "metadata": {},
   "outputs": [],
   "source": [
    "lenta_news = []"
   ]
  },
  {
   "cell_type": "code",
   "execution_count": 12,
   "metadata": {},
   "outputs": [],
   "source": [
    "for block in blocks:\n",
    "        lenta = {}\n",
    "        title = block.xpath(\"./a/text() | ./text()\")\n",
    "        link = block.xpath(\"./a/@href | ./@href\")\n",
    "        date = block.xpath(\"./a/time/@title | ./time/@title\")\n",
    "        \n",
    "        lenta['title'] = title[0].replace('\\xa0', ' ')\n",
    "        lenta['link'] = ['https://lenta.ru'+link[0]]\n",
    "        lenta['date'] = date\n",
    "        lenta_news.append(lenta)\n",
    "        news.insert_one(lenta)"
   ]
  },
  {
   "cell_type": "code",
   "execution_count": 13,
   "metadata": {},
   "outputs": [
    {
     "name": "stdout",
     "output_type": "stream",
     "text": [
      "[{'_id': ObjectId('6113e9cee1b70c74302cb2a8'),\n",
      "  'date': ['11 августа 2021'],\n",
      "  'link': ['https://lenta.ru/news/2021/08/11/naciki_kazahstan/'],\n",
      "  'title': 'В Госдуме рассказали о реакции России на национализм в Казахстане'},\n",
      " {'_id': ObjectId('6113e9cee1b70c74302cb2a9'),\n",
      "  'date': ['11 августа 2021'],\n",
      "  'link': ['https://lenta.ru/news/2021/08/11/obnovit/'],\n",
      "  'title': 'В РАН призвали обновить российские вакцины из-за новых мутаций '\n",
      "           'коронавируса'},\n",
      " {'_id': ObjectId('6113e9cee1b70c74302cb2aa'),\n",
      "  'date': ['11 августа 2021'],\n",
      "  'link': ['https://lenta.ru/news/2021/08/11/brasil/'],\n",
      "  'title': 'Бразилия начала конфликт с ООН из-за угля'},\n",
      " {'_id': ObjectId('6113e9cee1b70c74302cb2ab'),\n",
      "  'date': ['11 августа 2021'],\n",
      "  'link': ['https://lenta.ru/news/2021/08/11/primakov/'],\n",
      "  'title': 'В Россотрудничестве призвали Казахстан осудить действия '\n",
      "           'националистов'},\n",
      " {'_id': ObjectId('6113e9cee1b70c74302cb2ac'),\n",
      "  'date': ['11 августа 2021'],\n",
      "  'link': ['https://lenta.ru/news/2021/08/11/mogilnik/'],\n",
      "  'title': 'Под Тулой нашли свалку трупов животных'},\n",
      " {'_id': ObjectId('6113e9cee1b70c74302cb2ad'),\n",
      "  'date': ['11 августа 2021'],\n",
      "  'link': ['https://lenta.ru/news/2021/08/11/schoolteacher/'],\n",
      "  'title': 'Учительница из США бросила преподавание из-за курсов '\n",
      "           '«справедливости»'},\n",
      " {'_id': ObjectId('6113e9cee1b70c74302cb2ae'),\n",
      "  'date': ['11 августа 2021'],\n",
      "  'link': ['https://lenta.ru/news/2021/08/11/keys/'],\n",
      "  'title': 'Мужчина проглотил ключи от машины, не сумел объясниться с '\n",
      "           'иностранцами и умер'},\n",
      " {'_id': ObjectId('6113e9cee1b70c74302cb2af'),\n",
      "  'date': ['11 августа 2021'],\n",
      "  'link': ['https://lenta.ruhttps://moslenta.ru/news/moskovskie-kommunalshiki-spasli-stoyavshuyu-na-krayu-mosta-devushku-11-08-2021.htm/?utm_source=from_lenta'],\n",
      "  'title': 'Московские коммунальщики спасли стоявшую на краю моста девушку '},\n",
      " {'_id': ObjectId('6113e9cee1b70c74302cb2b0'),\n",
      "  'date': ['11 августа 2021'],\n",
      "  'link': ['https://lenta.ru/news/2021/08/11/nikitina/'],\n",
      "  'title': 'Латвийская судья вспомнила о победах Авериных с потерями '\n",
      "           'предметов'},\n",
      " {'_id': ObjectId('6113e9cee1b70c74302cb2b1'),\n",
      "  'date': ['11 августа 2021'],\n",
      "  'link': ['https://lenta.ru/news/2021/08/11/galaxy/'],\n",
      "  'title': 'Samsung представила новые раскладные смартфоны'}]\n"
     ]
    }
   ],
   "source": [
    "pprint(lenta_news)"
   ]
  }
 ],
 "metadata": {
  "kernelspec": {
   "display_name": "Python 3",
   "language": "python",
   "name": "python3"
  },
  "language_info": {
   "codemirror_mode": {
    "name": "ipython",
    "version": 3
   },
   "file_extension": ".py",
   "mimetype": "text/x-python",
   "name": "python",
   "nbconvert_exporter": "python",
   "pygments_lexer": "ipython3",
   "version": "3.8.5"
  }
 },
 "nbformat": 4,
 "nbformat_minor": 4
}
